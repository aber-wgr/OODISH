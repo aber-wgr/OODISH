{
 "cells": [
  {
   "cell_type": "markdown",
   "metadata": {},
   "source": [
    "Implementing an Autoencoder in PyTorch\n",
    "===\n",
    "\n",
    "This is adapted from the workbook provided alongside the article \"Implementing an Autoencoder in Pytorch\" which can be found [here](https://medium.com/pytorch/implementing-an-autoencoder-in-pytorch-19baa22647d1). The primary differences are that the network is much larger (as the code is designed to work with much larger images) and the model is split into two parts to allow for differential encode/decode metrics such as Mahalanobis Distance.\n",
    "\n",
    "This version of the model is designed with a convolutional model.\n"
   ]
  },
  {
   "cell_type": "markdown",
   "metadata": {},
   "source": [
    "## Setup\n",
    "\n",
    "We begin by importing our dependencies."
   ]
  },
  {
   "cell_type": "code",
   "execution_count": 1,
   "metadata": {},
   "outputs": [],
   "source": [
    "import matplotlib.pyplot as plt\n",
    "import numpy as np\n",
    "\n",
    "import torch\n",
    "import torch.nn as nn\n",
    "import torch.optim as optim\n",
    "from torch.utils.data.sampler import SubsetRandomSampler\n",
    "import torchvision\n",
    "import math\n",
    "import numpy\n",
    "import collections\n",
    "\n",
    "from model import SplitAutoencoder,ExtensibleEncoder,ExtensibleDecoder\n"
   ]
  },
  {
   "cell_type": "markdown",
   "metadata": {},
   "source": [
    "Set our seed and other configurations for reproducibility."
   ]
  },
  {
   "cell_type": "code",
   "execution_count": 2,
   "metadata": {},
   "outputs": [
    {
     "name": "stdout",
     "output_type": "stream",
     "text": [
      "cuda\n"
     ]
    }
   ],
   "source": [
    "seed = 42\n",
    "torch.manual_seed(seed)\n",
    "torch.backends.cudnn.benchmark = False\n",
    "torch.backends.cudnn.deterministic = True\n",
    "\n",
    "if torch.cuda.is_available():\n",
    "    platform = \"cuda\"\n",
    "else:\n",
    "    platform = \"cpu\"\n",
    "print(platform)"
   ]
  },
  {
   "cell_type": "markdown",
   "metadata": {},
   "source": [
    "We set the batch size, the number of training epochs, and the learning rate. Batch size has to be reasonably low as we can't fit a huge number of these images into VRAM on my laptop.\n",
    "\n",
    "Image size can be set here as I'm automatically resizing the images in my extraction code."
   ]
  },
  {
   "cell_type": "code",
   "execution_count": 3,
   "metadata": {},
   "outputs": [],
   "source": [
    "width = 256\n",
    "height = 256\n",
    "\n",
    "image_size = width * height\n",
    "\n",
    "batch_size = 16\n",
    "epochs = 80\n",
    "learning_rate = 1e-4\n",
    "\n",
    "#code_size = 100\n",
    "code_sides = [16]\n",
    "\n",
    "convolution_filters = 4\n",
    "\n",
    "#image_count = 300\n",
    "image_count = -1\n",
    "\n",
    "validation_split = 0.9"
   ]
  },
  {
   "cell_type": "markdown",
   "metadata": {},
   "source": [
    "## Dataset\n",
    "\n",
    "ImageFolder is used to load the base distribution images"
   ]
  },
  {
   "cell_type": "code",
   "execution_count": 4,
   "metadata": {},
   "outputs": [
    {
     "name": "stdout",
     "output_type": "stream",
     "text": [
      "3309\n",
      "367\n"
     ]
    }
   ],
   "source": [
    "from torchvision.datasets import ImageFolder\n",
    "\n",
    "from torchvision.transforms import ToTensor,Grayscale\n",
    "transform = torchvision.transforms.Compose([\n",
    "     torchvision.transforms.Grayscale(),\n",
    "#     torchvision.transforms.Resize((height,width)),\n",
    "     torchvision.transforms.ToTensor()\n",
    "    ])\n",
    "\n",
    "root_dir = \"../../Data/OPTIMAM_NEW/png_images/casewise/ScreeningMammography/256\"\n",
    "train_dataset = torchvision.datasets.ImageFolder(root=root_dir, transform=transform)\n",
    "if (image_count == -1):\n",
    "    train_dataset_subset = train_dataset\n",
    "else:\n",
    "    train_dataset_subset = torch.utils.data.Subset(train_dataset, numpy.random.choice(len(train_dataset), image_count, replace=False))\n",
    "\n",
    "dataset_len = len(train_dataset_subset)\n",
    "indices = list(range(dataset_len))\n",
    "\n",
    "# Randomly splitting indices:\n",
    "val_len = int(np.floor((1.0 - validation_split) * dataset_len))\n",
    "\n",
    "dataset_size = len(train_dataset_subset)\n",
    "indices = list(range(dataset_size))\n",
    "split = int(np.floor(validation_split * dataset_size))\n",
    "if 1 :\n",
    "    np.random.seed(1337)\n",
    "    np.random.shuffle(indices)\n",
    "train_indices, valid_indices = indices[split:], indices[:split]\n",
    "train_sampler = SubsetRandomSampler(train_indices)\n",
    "valid_sampler = SubsetRandomSampler(valid_indices)\n",
    "    \n",
    "train_loader = torch.utils.data.DataLoader(\n",
    "    train_dataset_subset, batch_size=batch_size, sampler = train_sampler\n",
    ")\n",
    "\n",
    "valid_loader = torch.utils.data.DataLoader(\n",
    "    train_dataset_subset, batch_size=batch_size, sampler = valid_sampler\n",
    ")\n",
    "\n",
    "data_loaders = {\"train\": train_loader, \"val\": valid_loader}\n",
    "data_lengths = {\"train\": split, \"val\": val_len}\n",
    "print(split)\n",
    "print(val_len)"
   ]
  },
  {
   "cell_type": "code",
   "execution_count": 5,
   "metadata": {},
   "outputs": [],
   "source": [
    "#  use gpu if available\n",
    "#device = torch.device(\"cuda\" if torch.cuda.is_available() else \"cpu\")\n",
    "device = torch.device(platform)\n",
    "\n",
    "# create a model from `AE` autoencoder class\n",
    "# load it to the specified device, either gpu or cpu\n",
    "\n",
    "models = []\n",
    "optimizers = []\n",
    "\n",
    "for i in range(len(code_sides)):\n",
    "    code_size = code_sides[i] * code_sides[i]\n",
    "    models.append(SplitAutoencoder(input_shape=(height,width),code_size=code_size,convolutions=convolution_filters).to(device))\n",
    "    optimizers.append(optim.Adam(models[i].parameters(), lr=learning_rate))\n",
    "\n",
    "# mean-squared error loss\n",
    "criterion = nn.MSELoss()\n",
    "#criterion = nn.BCELoss()"
   ]
  },
  {
   "cell_type": "markdown",
   "metadata": {},
   "source": [
    "We train our autoencoder for our specified number of epochs."
   ]
  },
  {
   "cell_type": "code",
   "execution_count": 6,
   "metadata": {},
   "outputs": [
    {
     "name": "stdout",
     "output_type": "stream",
     "text": [
      "==================\n",
      "Running for code size:256\n"
     ]
    },
    {
     "name": "stderr",
     "output_type": "stream",
     "text": [
      "C:\\Users\\chali\\Miniconda3\\envs\\pytorch\\lib\\site-packages\\torch\\nn\\functional.py:3060: UserWarning: Default upsampling behavior when mode=bilinear is changed to align_corners=False since 0.4.0. Please specify align_corners=True if the old behavior is desired. See the documentation of nn.Upsample for details.\n",
      "  warnings.warn(\"Default upsampling behavior when mode={} is changed \"\n"
     ]
    },
    {
     "name": "stdout",
     "output_type": "stream",
     "text": [
      "epoch : 1/80, train loss = 0.27003667, validation loss = 0.11585102\n",
      "epoch : 2/80, train loss = 0.08175793, validation loss = 0.07023846\n",
      "epoch : 3/80, train loss = 0.06488835, validation loss = 0.05918309\n",
      "epoch : 4/80, train loss = 0.05485734, validation loss = 0.05210969\n",
      "epoch : 5/80, train loss = 0.04938433, validation loss = 0.04690723\n",
      "epoch : 6/80, train loss = 0.04375656, validation loss = 0.04170958\n",
      "epoch : 7/80, train loss = 0.03683196, validation loss = 0.03420297\n",
      "epoch : 8/80, train loss = 0.03032460, validation loss = 0.02847361\n",
      "epoch : 9/80, train loss = 0.02614965, validation loss = 0.02560242\n",
      "epoch : 10/80, train loss = 0.02326932, validation loss = 0.02347192\n",
      "epoch : 11/80, train loss = 0.02095196, validation loss = 0.02195259\n",
      "epoch : 12/80, train loss = 0.01929093, validation loss = 0.02050627\n",
      "epoch : 13/80, train loss = 0.01783762, validation loss = 0.01934049\n",
      "epoch : 14/80, train loss = 0.01663535, validation loss = 0.01851131\n",
      "epoch : 15/80, train loss = 0.01553956, validation loss = 0.01725239\n",
      "epoch : 16/80, train loss = 0.01445683, validation loss = 0.01641855\n",
      "epoch : 17/80, train loss = 0.01355470, validation loss = 0.01575134\n",
      "epoch : 18/80, train loss = 0.01272388, validation loss = 0.01523207\n",
      "epoch : 19/80, train loss = 0.01228762, validation loss = 0.01475530\n",
      "epoch : 20/80, train loss = 0.01160214, validation loss = 0.01417255\n",
      "epoch : 21/80, train loss = 0.01082615, validation loss = 0.01346881\n",
      "epoch : 22/80, train loss = 0.01043465, validation loss = 0.01334866\n",
      "epoch : 23/80, train loss = 0.01021305, validation loss = 0.01333680\n",
      "epoch : 24/80, train loss = 0.00999402, validation loss = 0.01293481\n",
      "epoch : 25/80, train loss = 0.00947979, validation loss = 0.01252227\n",
      "epoch : 26/80, train loss = 0.00906680, validation loss = 0.01235785\n",
      "epoch : 27/80, train loss = 0.00877203, validation loss = 0.01197658\n",
      "epoch : 28/80, train loss = 0.00840294, validation loss = 0.01187410\n",
      "epoch : 29/80, train loss = 0.00817597, validation loss = 0.01153221\n",
      "epoch : 30/80, train loss = 0.00789115, validation loss = 0.01131431\n",
      "epoch : 31/80, train loss = 0.00753671, validation loss = 0.01113918\n",
      "epoch : 32/80, train loss = 0.00734767, validation loss = 0.01096439\n",
      "epoch : 33/80, train loss = 0.00728597, validation loss = 0.01087606\n",
      "epoch : 34/80, train loss = 0.00703364, validation loss = 0.01085051\n",
      "epoch : 35/80, train loss = 0.00688192, validation loss = 0.01072997\n",
      "epoch : 36/80, train loss = 0.00681237, validation loss = 0.01077933\n",
      "epoch : 37/80, train loss = 0.00673859, validation loss = 0.01060993\n",
      "epoch : 38/80, train loss = 0.00645526, validation loss = 0.01043786\n",
      "epoch : 39/80, train loss = 0.00635540, validation loss = 0.01031853\n",
      "epoch : 40/80, train loss = 0.00616552, validation loss = 0.01015676\n",
      "epoch : 41/80, train loss = 0.00611862, validation loss = 0.01028876\n",
      "epoch : 42/80, train loss = 0.00595106, validation loss = 0.01012582\n",
      "epoch : 43/80, train loss = 0.00584681, validation loss = 0.01010654\n",
      "epoch : 44/80, train loss = 0.00575604, validation loss = 0.00998407\n",
      "epoch : 45/80, train loss = 0.00561611, validation loss = 0.01011183\n",
      "epoch : 46/80, train loss = 0.00593330, validation loss = 0.01020908\n",
      "epoch : 47/80, train loss = 0.00582883, validation loss = 0.01083731\n",
      "epoch : 48/80, train loss = 0.00612740, validation loss = 0.01015972\n",
      "epoch : 49/80, train loss = 0.00557822, validation loss = 0.01008247\n",
      "epoch : 50/80, train loss = 0.00547365, validation loss = 0.00993496\n",
      "epoch : 51/80, train loss = 0.00520178, validation loss = 0.00969935\n",
      "epoch : 52/80, train loss = 0.00490726, validation loss = 0.00954788\n",
      "epoch : 53/80, train loss = 0.00482929, validation loss = 0.00953843\n",
      "epoch : 54/80, train loss = 0.00475214, validation loss = 0.00941413\n",
      "epoch : 55/80, train loss = 0.00481399, validation loss = 0.00969779\n",
      "epoch : 56/80, train loss = 0.00478229, validation loss = 0.00957479\n",
      "epoch : 57/80, train loss = 0.00459883, validation loss = 0.00937178\n",
      "epoch : 58/80, train loss = 0.00450703, validation loss = 0.00943523\n",
      "epoch : 59/80, train loss = 0.00446029, validation loss = 0.00961254\n",
      "epoch : 60/80, train loss = 0.00454186, validation loss = 0.00944918\n",
      "epoch : 61/80, train loss = 0.00455749, validation loss = 0.00954620\n",
      "epoch : 62/80, train loss = 0.00436842, validation loss = 0.00945459\n",
      "epoch : 63/80, train loss = 0.00431771, validation loss = 0.00942850\n",
      "epoch : 64/80, train loss = 0.00444584, validation loss = 0.00930156\n",
      "epoch : 65/80, train loss = 0.00430588, validation loss = 0.00951382\n",
      "epoch : 66/80, train loss = 0.00427454, validation loss = 0.00959565\n",
      "epoch : 67/80, train loss = 0.00424537, validation loss = 0.00928438\n",
      "epoch : 68/80, train loss = 0.00420539, validation loss = 0.00942272\n",
      "epoch : 69/80, train loss = 0.00410942, validation loss = 0.00930608\n",
      "epoch : 70/80, train loss = 0.00410315, validation loss = 0.00920822\n",
      "epoch : 71/80, train loss = 0.00406102, validation loss = 0.00931233\n",
      "epoch : 72/80, train loss = 0.00394159, validation loss = 0.00924790\n",
      "epoch : 73/80, train loss = 0.00386938, validation loss = 0.00919762\n",
      "epoch : 74/80, train loss = 0.00395880, validation loss = 0.00934259\n",
      "epoch : 75/80, train loss = 0.00405703, validation loss = 0.00935213\n",
      "epoch : 76/80, train loss = 0.00393836, validation loss = 0.00925095\n",
      "epoch : 77/80, train loss = 0.00393312, validation loss = 0.00922500\n",
      "epoch : 78/80, train loss = 0.00394810, validation loss = 0.00929965\n",
      "epoch : 79/80, train loss = 0.00376415, validation loss = 0.00920286\n",
      "epoch : 80/80, train loss = 0.00380930, validation loss = 0.00942120\n"
     ]
    }
   ],
   "source": [
    "best_model_dicts = []\n",
    "# populate with fake best models\n",
    "for i in range(len(code_sides)):\n",
    "    best_model_dicts.append((1.0,None))\n",
    "\n",
    "train_losses = []\n",
    "val_losses = []\n",
    "    \n",
    "for i in range(len(code_sides)):\n",
    "    print(\"==================\")\n",
    "    print(\"Running for code size:\" + str(code_sides[i] * code_sides[i]))\n",
    "    \n",
    "    train_losses.append([])\n",
    "    val_losses.append([])\n",
    "    \n",
    "    for epoch in range(epochs):\n",
    "        losses = {'train':0.0, 'val':0.0}\n",
    "       \n",
    "        for phase in ['train', 'val']:\n",
    "            if phase == 'train':\n",
    "                models[i].train()  # Set model to training mode\n",
    "            else:\n",
    "                models[i].eval()  # Set model to evaluate mode\n",
    "\n",
    "            for batch_features, labels in data_loaders[phase]:\n",
    "                # load it to the active device\n",
    "                batch_features = batch_features.to(device)\n",
    "\n",
    "                # reset the gradients back to zero\n",
    "                # PyTorch accumulates gradients on subsequent backward passes\n",
    "                optimizers[i].zero_grad()\n",
    "\n",
    "                # compute reconstructions\n",
    "                codes = models[i].encoder(batch_features)\n",
    "                outputs = models[i].decoder(codes)\n",
    "\n",
    "                # compute training reconstruction loss\n",
    "                local_loss = criterion(outputs,batch_features)\n",
    "\n",
    "                if phase == 'train':\n",
    "                    # compute accumulated gradients\n",
    "                    local_loss.backward()\n",
    "\n",
    "                    # perform parameter update based on current gradients\n",
    "                    optimizers[i].step()\n",
    "\n",
    "                # add the mini-batch training loss to epoch loss\n",
    "                losses[phase] += local_loss.item()\n",
    "\n",
    "        # compute the epoch training loss\n",
    "        #losses['train'] = losses['train'] / data_lengths['train']\n",
    "        #losses['val'] = losses['val'] / data_lengths['val']\n",
    "\n",
    "        losses['train'] = losses['train'] / len(data_loaders['train'])\n",
    "        losses['val'] = losses['val'] / len(data_loaders['val'])\n",
    "\n",
    "        #check if best model\n",
    "        if(losses['val'] < best_model_dicts[i][0]):\n",
    "            best_model_dicts[i] = (losses['val'],models[i].state_dict())\n",
    "        \n",
    "        train_losses.append(losses['train'])\n",
    "        val_losses.append(losses['val'])\n",
    "        \n",
    "        # display the epoch training loss\n",
    "        print(\"epoch : {}/{}, train loss = {:.8f}, validation loss = {:.8f}\".format(epoch + 1, epochs, losses['train'],losses['val']))\n",
    "    "
   ]
  },
  {
   "cell_type": "markdown",
   "metadata": {},
   "source": [
    "Restore the best trained model and save."
   ]
  },
  {
   "cell_type": "code",
   "execution_count": 7,
   "metadata": {},
   "outputs": [],
   "source": [
    "for i in range(len(code_sides)):\n",
    "    models[i].load_state_dict(best_model_dicts[i][1])\n",
    "    PATH = \"../../Data/OPTIMAM_NEW/model\" + str(i) + \".pt\"\n",
    "    torch.save(models[i], PATH)"
   ]
  },
  {
   "cell_type": "markdown",
   "metadata": {},
   "source": [
    "Let's extract some test examples to reconstruct using our trained autoencoder."
   ]
  },
  {
   "cell_type": "code",
   "execution_count": 8,
   "metadata": {},
   "outputs": [],
   "source": [
    "root_dir = \"../../Data/OPTIMAM_NEW/png_images/casewise/ScreeningMammography/256\"\n",
    "test_dataset = torchvision.datasets.ImageFolder(root=root_dir, transform=transform) # same transform as we used for the training, for compatibility\n",
    "\n",
    "if (image_count == -1):\n",
    "    test_dataset_subset = test_dataset\n",
    "else:\n",
    "    test_dataset_subset = torch.utils.data.Subset(test_dataset, numpy.random.choice(len(test_dataset), image_count, replace=False))\n",
    "\n",
    "test_loader = torch.utils.data.DataLoader(\n",
    "    test_dataset_subset, batch_size=5, shuffle=True\n",
    ")\n",
    "\n",
    "test_example_sets = [None] * len(code_sides)\n",
    "code_sets = [None] * len(code_sides)\n",
    "reconstruction_sets = [None] * len(code_sides)"
   ]
  },
  {
   "cell_type": "markdown",
   "metadata": {},
   "source": [
    "## Visualize Results\n",
    "\n",
    "Let's try to reconstruct some test images using our trained autoencoder."
   ]
  },
  {
   "cell_type": "code",
   "execution_count": 9,
   "metadata": {},
   "outputs": [],
   "source": [
    "with torch.no_grad():\n",
    "    for i in range(len(code_sides)):\n",
    "        for batch_features in test_loader:\n",
    "            batch_features = batch_features[0]\n",
    "            test_examples = batch_features.to(device)\n",
    "            n_codes = models[i].encoder(test_examples)\n",
    "            reconstruction = models[i](test_examples)\n",
    "            break;\n",
    "        test_example_sets[i] = test_examples\n",
    "        code_sets[i] = n_codes\n",
    "        reconstruction_sets[i] = reconstruction\n",
    "\n",
    "            "
   ]
  },
  {
   "cell_type": "code",
   "execution_count": 10,
   "metadata": {},
   "outputs": [
    {
     "data": {
      "image/png": "[encoded data removed]",
      "text/plain": [
       "<Figure size 1800x648 with 15 Axes>"
      ]
     },
     "metadata": {
      "needs_background": "light"
     },
     "output_type": "display_data"
    }
   ],
   "source": [
    "with torch.no_grad():\n",
    "    for i in range(len(code_sides)):\n",
    "        number = 5\n",
    "        plt.figure(figsize=(25, 9))\n",
    "        for index in range(number):\n",
    "            # display original\n",
    "            ax = plt.subplot(3, number, index + 1)\n",
    "            test_examples = test_example_sets[i]\n",
    "            copyback = test_examples[index].cpu()\n",
    "            #plt.imshow(copyback.numpy().reshape(height, width), vmin=0, vmax=65535)\n",
    "            plt.imshow(copyback.reshape(height, width))\n",
    "            plt.gray()\n",
    "            ax.get_xaxis().set_visible(False)\n",
    "            ax.get_yaxis().set_visible(False)\n",
    "\n",
    "            # display codes\n",
    "            ax = plt.subplot(3, number, index + 1 + number)\n",
    "            codes = code_sets[i]\n",
    "            code_copyback = codes[index].cpu()\n",
    "            plt.imshow(code_copyback.numpy().reshape(code_sides[i],code_sides[i]))\n",
    "            plt.gray()\n",
    "            ax.get_xaxis().set_visible(False)\n",
    "            ax.get_yaxis().set_visible(False)\n",
    "\n",
    "            # display reconstruction\n",
    "            ax = plt.subplot(3, number, index + 6 + number)\n",
    "            reconstruction = reconstruction_sets[i]\n",
    "            recon_copyback = reconstruction[index].cpu()\n",
    "            plt.imshow(recon_copyback.reshape(height, width))\n",
    "            plt.gray()\n",
    "            ax.get_xaxis().set_visible(False)\n",
    "            ax.get_yaxis().set_visible(False)\n",
    "        \n",
    "        out_path = \"output\"+str(i)+\".png\" \n",
    "        plt.savefig(out_path)\n",
    "        plt.show()"
   ]
  },
  {
   "cell_type": "code",
   "execution_count": null,
   "metadata": {},
   "outputs": [],
   "source": []
  },
  {
   "cell_type": "code",
   "execution_count": null,
   "metadata": {},
   "outputs": [],
   "source": []
  }
 ],
 "metadata": {
  "kernelspec": {
   "display_name": "Python 3",
   "language": "python",
   "name": "python3"
  },
  "language_info": {
   "codemirror_mode": {
    "name": "ipython",
    "version": 3
   },
   "file_extension": ".py",
   "mimetype": "text/x-python",
   "name": "python",
   "nbconvert_exporter": "python",
   "pygments_lexer": "ipython3",
   "version": "3.8.5"
  }
 },
 "nbformat": 4,
 "nbformat_minor": 4
}
