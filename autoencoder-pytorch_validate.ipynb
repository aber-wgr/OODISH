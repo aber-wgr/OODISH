{
 "cells": [
  {
   "cell_type": "markdown",
   "metadata": {},
   "source": [
    "Implementing an Autoencoder in PyTorch\n",
    "===\n",
    "\n",
    "This is adapted from the workbook provided alongside the article \"Implementing an Autoencoder in Pytorch\" which can be found [here](https://medium.com/pytorch/implementing-an-autoencoder-in-pytorch-19baa22647d1). The primary differences are that the network is much larger (as the code is designed to work with much larger images) and the model is split into two parts to allow for differential encode/decode metrics such as Mahalanobis Distance.\n",
    "\n",
    "This version of the model is designed with a convolutional model.\n"
   ]
  },
  {
   "cell_type": "markdown",
   "metadata": {},
   "source": [
    "## Setup\n",
    "\n",
    "We begin by importing our dependencies."
   ]
  },
  {
   "cell_type": "code",
   "execution_count": null,
   "metadata": {},
   "outputs": [],
   "source": [
    "import matplotlib.pyplot as plt\n",
    "import numpy as np\n",
    "\n",
    "import torch\n",
    "import torch.nn as nn\n",
    "import torch.optim as optim\n",
    "from torch.utils.data.sampler import SubsetRandomSampler\n",
    "import torchvision\n",
    "import math\n",
    "import numpy\n"
   ]
  },
  {
   "cell_type": "markdown",
   "metadata": {},
   "source": [
    "Set our seed and other configurations for reproducibility."
   ]
  },
  {
   "cell_type": "code",
   "execution_count": null,
   "metadata": {},
   "outputs": [],
   "source": [
    "seed = 42\n",
    "torch.manual_seed(seed)\n",
    "torch.backends.cudnn.benchmark = False\n",
    "torch.backends.cudnn.deterministic = True\n",
    "\n",
    "if torch.cuda.is_available():\n",
    "    platform = \"cuda\"\n",
    "else:\n",
    "    plaform = \"cpu\"\n",
    "print(platform)"
   ]
  },
  {
   "cell_type": "markdown",
   "metadata": {},
   "source": [
    "We set the batch size, the number of training epochs, and the learning rate. Batch size has to be reasonably low as we can't fit a huge number of these images into VRAM on my laptop.\n",
    "\n",
    "Image size can be set here as I'm automatically resizing the images in my extraction code."
   ]
  },
  {
   "cell_type": "code",
   "execution_count": null,
   "metadata": {},
   "outputs": [],
   "source": [
    "width = 256\n",
    "height = 256\n",
    "\n",
    "image_size = width * height\n",
    "\n",
    "batch_size = 32\n",
    "epochs = 10\n",
    "learning_rate = 1e-4\n",
    "\n",
    "#code_size = 100\n",
    "code_sides = [16]\n",
    "\n",
    "image_count = 1000\n",
    "#image_count = -1\n",
    "\n",
    "validation_split = 0.8"
   ]
  },
  {
   "cell_type": "markdown",
   "metadata": {},
   "source": [
    "## Dataset\n",
    "\n",
    "ImageFolder is used to load the base distribution images"
   ]
  },
  {
   "cell_type": "code",
   "execution_count": null,
   "metadata": {},
   "outputs": [],
   "source": [
    "from torchvision.datasets import ImageFolder\n",
    "\n",
    "from torchvision.transforms import ToTensor,Grayscale\n",
    "transform = torchvision.transforms.Compose([\n",
    "     torchvision.transforms.Grayscale(),\n",
    "     torchvision.transforms.Resize((height,width)),\n",
    "     torchvision.transforms.ToTensor(),\n",
    "     #torchvision.transforms.Normalize(mean=[0.5], std=[0.5])\n",
    "    ])\n",
    "\n",
    "root_dir = \"../../Data/OPTIMAM_NEW/png_images\"\n",
    "train_dataset = torchvision.datasets.ImageFolder(root=root_dir, transform=transform)\n",
    "if (image_count == -1):\n",
    "    train_dataset_subset = train_dataset\n",
    "else:\n",
    "    train_dataset_subset = torch.utils.data.Subset(train_dataset, numpy.random.choice(len(train_dataset), image_count, replace=False))\n",
    "\n",
    "dataset_len = len(train_dataset_subset)\n",
    "indices = list(range(dataset_len))\n",
    "\n",
    "# Randomly splitting indices:\n",
    "val_len = int(np.floor((1.0 - validation_split) * dataset_len))\n",
    "\n",
    "dataset_size = len(train_dataset_subset)\n",
    "indices = list(range(dataset_size))\n",
    "split = int(np.floor(validation_split * dataset_size))\n",
    "if 1 :\n",
    "    np.random.seed(1337)\n",
    "    np.random.shuffle(indices)\n",
    "train_indices, valid_indices = indices[split:], indices[:split]\n",
    "train_sampler = SubsetRandomSampler(train_indices)\n",
    "valid_sampler = SubsetRandomSampler(valid_indices)\n",
    "    \n",
    "train_loader = torch.utils.data.DataLoader(\n",
    "    train_dataset_subset, batch_size=batch_size, sampler = train_sampler\n",
    ")\n",
    "\n",
    "valid_loader = torch.utils.data.DataLoader(\n",
    "    train_dataset_subset, batch_size=batch_size, sampler = valid_sampler\n",
    ")\n",
    "\n",
    "data_loaders = {\"train\": train_loader, \"val\": valid_loader}\n",
    "data_lengths = {\"train\": split, \"val\": val_len}\n",
    "print(split)\n",
    "print(val_len)"
   ]
  },
  {
   "cell_type": "markdown",
   "metadata": {},
   "source": [
    "## Autoencoder\n",
    "\n",
    "An autoencoder is a type of neural network that finds the function mapping the features x to itself. This objective is known as reconstruction, and an autoencoder accomplishes this through the following process: (1) an encoder learns the data representation in lower-dimension space, i.e. extracting the most salient features of the data, and (2) a decoder learns to reconstruct the original data based on the learned representation by the encoder.\n",
    "\n",
    "In this version, our autoencoder is intentionally split into two parts so that the encoder and decoder can be used separately. This version of the code uses a convolutional model."
   ]
  },
  {
   "cell_type": "code",
   "execution_count": null,
   "metadata": {},
   "outputs": [],
   "source": [
    "class SplitAutoencoder(nn.Module):\n",
    "    def __init__(self, **kwargs):\n",
    "        super().__init__()\n",
    "        self.encoder = nn.Sequential( \n",
    "            nn.Conv2d(in_channels=1, out_channels=32, kernel_size=3, stride=1, padding=1),\n",
    "            nn.ReLU(),\n",
    "            nn.MaxPool2d(kernel_size=2, stride=2), # 128x128x32\n",
    "            nn.Conv2d(in_channels=32, out_channels=64, kernel_size=3, stride=1, padding=1),\n",
    "            nn.ReLU(),\n",
    "            nn.MaxPool2d(kernel_size=2, stride=2), # 64x64x64\n",
    "            nn.Conv2d(in_channels=64, out_channels=128, kernel_size=3, stride=1, padding=1),\n",
    "            nn.ReLU(),\n",
    "            nn.MaxPool2d(kernel_size=2, stride=2), # 32x32x128\n",
    "            nn.Flatten(), # 131072x1\n",
    "            nn.Linear(in_features=32*32*128,out_features=kwargs[\"code_size\"]),\n",
    "            nn.ReLU()\n",
    "        )\n",
    "        # result (encoding) is code_size x 1\n",
    "        \n",
    "        self.decoder = nn.Sequential(\n",
    "            nn.Linear(in_features=kwargs[\"code_size\"], out_features=32*32*128), #131072x1\n",
    "            nn.Unflatten(1,(128,32,32)), # 32x32x128\n",
    "            nn.Conv2d(in_channels=128, out_channels=64, kernel_size=3, stride=1, padding=1),\n",
    "            nn.ReLU(),\n",
    "            nn.Upsample(scale_factor=2, mode='bilinear'), # 64x64x64\n",
    "            nn.Conv2d(in_channels=64, out_channels=32, kernel_size=3, stride=1, padding=1),\n",
    "            nn.ReLU(),\n",
    "            nn.Upsample(scale_factor=2, mode='bilinear'), # 128x128x32\n",
    "            nn.Conv2d(in_channels=32, out_channels=1, kernel_size=3, stride=1, padding=1),\n",
    "            nn.ReLU(),\n",
    "            #nn.Sigmoid(),\n",
    "            nn.Upsample(scale_factor=2, mode='bilinear'), #256x256x1\n",
    "            #nn.Sigmoid()\n",
    "        )\n",
    "        \n",
    "    def forward(self, features):\n",
    "        code = self.encoder(features)\n",
    "        out = self.decoder(code)\n",
    "        return out"
   ]
  },
  {
   "cell_type": "markdown",
   "metadata": {},
   "source": [
    "Before using our defined autoencoder class, we have the following things to do:\n",
    "    1. We configure which device we want to run on.\n",
    "    2. We instantiate our modules.\n",
    "    3. We define our optimizer.\n",
    "    4. We define our reconstruction loss."
   ]
  },
  {
   "cell_type": "code",
   "execution_count": null,
   "metadata": {},
   "outputs": [],
   "source": [
    "#  use gpu if available\n",
    "#device = torch.device(\"cuda\" if torch.cuda.is_available() else \"cpu\")\n",
    "device = torch.device(platform)\n",
    "\n",
    "# create a model from `AE` autoencoder class\n",
    "# load it to the specified device, either gpu or cpu\n",
    "\n",
    "models = []\n",
    "optimizers = []\n",
    "\n",
    "for i in range(len(code_sides)):\n",
    "    code_size = code_sides[i] * code_sides[i]\n",
    "    models.append(SplitAutoencoder(input_shape=image_size,code_size=code_size).to(device))\n",
    "    optimizers.append(optim.Adam(models[i].parameters(), lr=learning_rate))\n",
    "\n",
    "# mean-squared error loss\n",
    "criterion = nn.MSELoss()\n",
    "#criterion = nn.BCELoss()"
   ]
  },
  {
   "cell_type": "markdown",
   "metadata": {},
   "source": [
    "We train our autoencoder for our specified number of epochs."
   ]
  },
  {
   "cell_type": "code",
   "execution_count": null,
   "metadata": {},
   "outputs": [],
   "source": [
    "for i in range(len(code_sides)):\n",
    "    print(\"==================\")\n",
    "    print(\"Running for code size:\" + str(code_sides[i] * code_sides[i]))\n",
    "    for epoch in range(epochs):\n",
    "        losses = {'train':0.0, 'val':0.0}\n",
    "       \n",
    "        for phase in ['train', 'val']:\n",
    "            if phase == 'train':\n",
    "                models[i].train()  # Set model to training mode\n",
    "            else:\n",
    "                models[i].eval()  # Set model to evaluate mode\n",
    "\n",
    "            for batch_features, labels in data_loaders[phase]:\n",
    "                # load it to the active device\n",
    "                batch_features = batch_features.to(device)\n",
    "\n",
    "                # reset the gradients back to zero\n",
    "                # PyTorch accumulates gradients on subsequent backward passes\n",
    "                optimizers[i].zero_grad()\n",
    "\n",
    "                # compute reconstructions\n",
    "                codes = models[i].encoder(batch_features)\n",
    "                outputs = models[i].decoder(codes)\n",
    "\n",
    "                # compute training reconstruction loss\n",
    "                local_loss = criterion(outputs,batch_features)\n",
    "\n",
    "                if phase == 'train':\n",
    "                    # compute accumulated gradients\n",
    "                    local_loss.backward()\n",
    "\n",
    "                    # perform parameter update based on current gradients\n",
    "                    optimizers[i].step()\n",
    "\n",
    "                # add the mini-batch training loss to epoch loss\n",
    "                losses[phase] += local_loss.item()\n",
    "\n",
    "        # compute the epoch training loss\n",
    "        #losses['train'] = losses['train'] / data_lengths['train']\n",
    "        #losses['val'] = losses['val'] / data_lengths['val']\n",
    "\n",
    "        losses['train'] = losses['train'] / len(data_loaders['train'])\n",
    "        losses['val'] = losses['val'] / len(data_loaders['val'])\n",
    "\n",
    "        \n",
    "        # display the epoch training loss\n",
    "        print(\"epoch : {}/{}, train loss = {:.8f}, validation loss = {:.8f}\".format(epoch + 1, epochs, losses['train'],losses['val']))\n",
    "    "
   ]
  },
  {
   "cell_type": "markdown",
   "metadata": {},
   "source": [
    "And save the trained models"
   ]
  },
  {
   "cell_type": "code",
   "execution_count": null,
   "metadata": {},
   "outputs": [],
   "source": [
    "for i in range(len(code_sides)):\n",
    "    PATH = \"../../Data/OPTIMAM_NEW/model\" + str(i) + \".pt\"\n",
    "    torch.save(models[i], PATH)"
   ]
  },
  {
   "cell_type": "markdown",
   "metadata": {},
   "source": [
    "Let's extract some test examples to reconstruct using our trained autoencoder."
   ]
  },
  {
   "cell_type": "code",
   "execution_count": null,
   "metadata": {},
   "outputs": [],
   "source": [
    "root_dir = \"../../Data/OPTIMAM_NEW/png_images\"\n",
    "test_dataset = torchvision.datasets.ImageFolder(root=root_dir, transform=transform) # same transform as we used for the training, for compatibility\n",
    "\n",
    "if (image_count == -1):\n",
    "    test_dataset_subset = test_dataset\n",
    "else:\n",
    "    test_dataset_subset = torch.utils.data.Subset(test_dataset, numpy.random.choice(len(test_dataset), image_count, replace=False))\n",
    "\n",
    "test_loader = torch.utils.data.DataLoader(\n",
    "    test_dataset_subset, batch_size=5, shuffle=True\n",
    ")\n",
    "\n",
    "test_example_sets = [None] * len(code_sides)\n",
    "code_sets = [None] * len(code_sides)\n",
    "reconstruction_sets = [None] * len(code_sides)"
   ]
  },
  {
   "cell_type": "markdown",
   "metadata": {},
   "source": [
    "## Visualize Results\n",
    "\n",
    "Let's try to reconstruct some test images using our trained autoencoder."
   ]
  },
  {
   "cell_type": "code",
   "execution_count": null,
   "metadata": {},
   "outputs": [],
   "source": [
    "with torch.no_grad():\n",
    "    for i in range(len(code_sides)):\n",
    "        for batch_features in test_loader:\n",
    "            batch_features = batch_features[0]\n",
    "            test_examples = batch_features.to(device)\n",
    "            n_codes = models[i].encoder(test_examples)\n",
    "            reconstruction = models[i](test_examples)\n",
    "            break;\n",
    "        test_example_sets[i] = test_examples\n",
    "        code_sets[i] = n_codes\n",
    "        reconstruction_sets[i] = reconstruction\n",
    "\n",
    "            "
   ]
  },
  {
   "cell_type": "code",
   "execution_count": null,
   "metadata": {},
   "outputs": [],
   "source": [
    "with torch.no_grad():\n",
    "    for i in range(len(code_sides)):\n",
    "        number = 5\n",
    "        plt.figure(figsize=(25, 9))\n",
    "        for index in range(number):\n",
    "            # display original\n",
    "            ax = plt.subplot(3, number, index + 1)\n",
    "            test_examples = test_example_sets[i]\n",
    "            copyback = test_examples[index].cpu()\n",
    "            plt.imshow(copyback.numpy().reshape(height, width))\n",
    "            plt.gray()\n",
    "            ax.get_xaxis().set_visible(False)\n",
    "            ax.get_yaxis().set_visible(False)\n",
    "\n",
    "            # display codes\n",
    "            ax = plt.subplot(3, number, index + 1 + number)\n",
    "            codes = code_sets[i]\n",
    "            code_copyback = codes[index].cpu()\n",
    "            plt.imshow(code_copyback.numpy().reshape(code_sides[i],code_sides[i]))\n",
    "            plt.gray()\n",
    "            ax.get_xaxis().set_visible(False)\n",
    "            ax.get_yaxis().set_visible(False)\n",
    "\n",
    "            # display reconstruction\n",
    "            ax = plt.subplot(3, number, index + 6 + number)\n",
    "            reconstruction = reconstruction_sets[i]\n",
    "            recon_copyback = reconstruction[index].cpu()\n",
    "            plt.imshow(recon_copyback.numpy().reshape(height, width))\n",
    "            plt.gray()\n",
    "            ax.get_xaxis().set_visible(False)\n",
    "            ax.get_yaxis().set_visible(False)\n",
    "        \n",
    "        out_path = \"output\"+str(i)+\".png\" \n",
    "        plt.savefig(out_path)\n",
    "        plt.show()"
   ]
  },
  {
   "cell_type": "code",
   "execution_count": null,
   "metadata": {},
   "outputs": [],
   "source": []
  }
 ],
 "metadata": {
  "kernelspec": {
   "display_name": "Python 3",
   "language": "python",
   "name": "python3"
  },
  "language_info": {
   "codemirror_mode": {
    "name": "ipython",
    "version": 3
   },
   "file_extension": ".py",
   "mimetype": "text/x-python",
   "name": "python",
   "nbconvert_exporter": "python",
   "pygments_lexer": "ipython3",
   "version": "3.8.5"
  }
 },
 "nbformat": 4,
 "nbformat_minor": 4
}
